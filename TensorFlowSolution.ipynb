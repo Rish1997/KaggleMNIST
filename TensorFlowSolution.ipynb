{
 "cells": [
  {
   "cell_type": "code",
   "execution_count": 2,
   "metadata": {},
   "outputs": [
    {
     "name": "stderr",
     "output_type": "stream",
     "text": [
      "/home/rishabh/.conda/envs/py27/lib/python2.7/site-packages/h5py/__init__.py:34: FutureWarning: Conversion of the second argument of issubdtype from `float` to `np.floating` is deprecated. In future, it will be treated as `np.float64 == np.dtype(float).type`.\n",
      "  from ._conv import register_converters as _register_converters\n",
      "Using TensorFlow backend.\n"
     ]
    }
   ],
   "source": [
    "from keras.models import Sequential\n",
    "from keras.layers import Dense\n",
    "import pandas as pd\n",
    "import numpy as np"
   ]
  },
  {
   "cell_type": "code",
   "execution_count": 3,
   "metadata": {
    "collapsed": true
   },
   "outputs": [],
   "source": [
    "dataset = pd.read_csv(\"./train.csv\", delimiter=\",\")\n",
    "testset = pd.read_csv(\"./test.csv\", delimiter=\",\")"
   ]
  },
  {
   "cell_type": "code",
   "execution_count": 4,
   "metadata": {
    "collapsed": true
   },
   "outputs": [],
   "source": [
    "Y = dataset['label']\n",
    "del dataset['label']\n",
    "X = dataset"
   ]
  },
  {
   "cell_type": "code",
   "execution_count": 37,
   "metadata": {},
   "outputs": [],
   "source": [
    "model = Sequential()\n",
    "model.add(Dense(784, input_dim=784, activation='sigmoid'))\n",
    "model.add(Dense(1024, activation='tanh'))\n",
    "model.add(Dense(350, activation='tanh'))\n",
    "model.add(Dense(125, activation='tanh'))\n",
    "model.add(Dense(60, activation='tanh'))\n",
    "model.add(Dense(10, activation='softmax'))"
   ]
  },
  {
   "cell_type": "code",
   "execution_count": 38,
   "metadata": {
    "collapsed": true
   },
   "outputs": [],
   "source": [
    "from keras import optimizers\n",
    "sgd = optimizers.SGD(lr=0.01, decay=1e-6, momentum=0.9, nesterov=True)\n",
    "model.compile(loss='mean_squared_error', optimizer='sgd', metrics=['accuracy'])"
   ]
  },
  {
   "cell_type": "code",
   "execution_count": 40,
   "metadata": {},
   "outputs": [
    {
     "name": "stdout",
     "output_type": "stream",
     "text": [
      "Epoch 1/30\n",
      "42000/42000 [==============================] - 49s 1ms/step - loss: 0.0053 - acc: 0.9725\n",
      "Epoch 2/30\n",
      "42000/42000 [==============================] - 49s 1ms/step - loss: 0.0050 - acc: 0.9745\n",
      "Epoch 3/30\n",
      "42000/42000 [==============================] - 49s 1ms/step - loss: 0.0046 - acc: 0.9764\n",
      "Epoch 4/30\n",
      "42000/42000 [==============================] - 49s 1ms/step - loss: 0.0043 - acc: 0.9785\n",
      "Epoch 5/30\n",
      "42000/42000 [==============================] - 49s 1ms/step - loss: 0.0040 - acc: 0.9803\n",
      "Epoch 6/30\n",
      "42000/42000 [==============================] - 50s 1ms/step - loss: 0.0037 - acc: 0.9820\n",
      "Epoch 7/30\n",
      "42000/42000 [==============================] - 50s 1ms/step - loss: 0.0034 - acc: 0.9834\n",
      "Epoch 8/30\n",
      "42000/42000 [==============================] - 50s 1ms/step - loss: 0.0031 - acc: 0.9843\n",
      "Epoch 9/30\n",
      "42000/42000 [==============================] - 50s 1ms/step - loss: 0.0029 - acc: 0.9858\n",
      "Epoch 10/30\n",
      "42000/42000 [==============================] - 50s 1ms/step - loss: 0.0027 - acc: 0.9867\n",
      "Epoch 11/30\n",
      "42000/42000 [==============================] - 50s 1ms/step - loss: 0.0026 - acc: 0.9874\n",
      "Epoch 12/30\n",
      "42000/42000 [==============================] - 50s 1ms/step - loss: 0.0024 - acc: 0.9882\n",
      "Epoch 13/30\n",
      "42000/42000 [==============================] - 50s 1ms/step - loss: 0.0023 - acc: 0.9891\n",
      "Epoch 14/30\n",
      "42000/42000 [==============================] - 50s 1ms/step - loss: 0.0021 - acc: 0.9898\n",
      "Epoch 15/30\n",
      "42000/42000 [==============================] - 50s 1ms/step - loss: 0.0020 - acc: 0.9904\n",
      "Epoch 16/30\n",
      "42000/42000 [==============================] - 50s 1ms/step - loss: 0.0019 - acc: 0.9910\n",
      "Epoch 17/30\n",
      "42000/42000 [==============================] - 50s 1ms/step - loss: 0.0018 - acc: 0.9913\n",
      "Epoch 18/30\n",
      "42000/42000 [==============================] - 51s 1ms/step - loss: 0.0017 - acc: 0.9915\n",
      "Epoch 19/30\n",
      "42000/42000 [==============================] - 50s 1ms/step - loss: 0.0017 - acc: 0.9919\n",
      "Epoch 20/30\n",
      "42000/42000 [==============================] - 50s 1ms/step - loss: 0.0016 - acc: 0.9922\n",
      "Epoch 21/30\n",
      "42000/42000 [==============================] - 50s 1ms/step - loss: 0.0015 - acc: 0.9924\n",
      "Epoch 22/30\n",
      "42000/42000 [==============================] - 50s 1ms/step - loss: 0.0015 - acc: 0.9928\n",
      "Epoch 23/30\n",
      "42000/42000 [==============================] - 51s 1ms/step - loss: 0.0014 - acc: 0.9931\n",
      "Epoch 24/30\n",
      "42000/42000 [==============================] - 51s 1ms/step - loss: 0.0013 - acc: 0.9934\n",
      "Epoch 25/30\n",
      "42000/42000 [==============================] - 50s 1ms/step - loss: 0.0013 - acc: 0.9938\n",
      "Epoch 26/30\n",
      "42000/42000 [==============================] - 51s 1ms/step - loss: 0.0012 - acc: 0.9940\n",
      "Epoch 27/30\n",
      "42000/42000 [==============================] - 51s 1ms/step - loss: 0.0012 - acc: 0.9941\n",
      "Epoch 28/30\n",
      "42000/42000 [==============================] - 51s 1ms/step - loss: 0.0012 - acc: 0.9943\n",
      "Epoch 29/30\n",
      "42000/42000 [==============================] - 51s 1ms/step - loss: 0.0011 - acc: 0.9945\n",
      "Epoch 30/30\n",
      "42000/42000 [==============================] - 51s 1ms/step - loss: 0.0011 - acc: 0.9947\n"
     ]
    },
    {
     "data": {
      "text/plain": [
       "<keras.callbacks.History at 0x7f65944c6190>"
      ]
     },
     "execution_count": 40,
     "metadata": {},
     "output_type": "execute_result"
    }
   ],
   "source": [
    "from keras.utils import to_categorical\n",
    "one_hot_labels = to_categorical(Y, num_classes=10)\n",
    "model.fit(X, one_hot_labels, epochs=30, batch_size=15)"
   ]
  },
  {
   "cell_type": "code",
   "execution_count": 44,
   "metadata": {},
   "outputs": [
    {
     "name": "stdout",
     "output_type": "stream",
     "text": [
      "42000/42000 [==============================] - 7s 169us/step\n",
      "[0.0010261392469678651, 0.9949761904761905]\n"
     ]
    }
   ],
   "source": [
    "scores = model.evaluate(X, one_hot_labels)\n",
    "print(scores)\n",
    "testscore = model.predict(testset)\n",
    "output = [np.argmax(x) for x in testscore]"
   ]
  },
  {
   "cell_type": "code",
   "execution_count": 45,
   "metadata": {
    "collapsed": true
   },
   "outputs": [],
   "source": [
    "def makeFile(results , name):\n",
    "    output = pd.DataFrame()\n",
    "    outImage = []\n",
    "    for i in range(0 , len(results)):\n",
    "        outImage.append(i+1)\n",
    "    output['ImageId'] = outImage\n",
    "    output['Label'] = results\n",
    "    output.to_csv('./' + name + '.csv' , index=False)"
   ]
  },
  {
   "cell_type": "code",
   "execution_count": 46,
   "metadata": {
    "collapsed": true
   },
   "outputs": [],
   "source": [
    "makeFile(output , 'DL')"
   ]
  },
  {
   "cell_type": "code",
   "execution_count": null,
   "metadata": {
    "collapsed": true
   },
   "outputs": [],
   "source": []
  }
 ],
 "metadata": {
  "kernelspec": {
   "display_name": "Python 2",
   "language": "python",
   "name": "python2"
  },
  "language_info": {
   "codemirror_mode": {
    "name": "ipython",
    "version": 2
   },
   "file_extension": ".py",
   "mimetype": "text/x-python",
   "name": "python",
   "nbconvert_exporter": "python",
   "pygments_lexer": "ipython2",
   "version": "2.7.13"
  }
 },
 "nbformat": 4,
 "nbformat_minor": 2
}
